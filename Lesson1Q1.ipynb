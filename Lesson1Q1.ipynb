{
 "cells": [
  {
   "cell_type": "code",
   "id": "46415391-d3cd-492b-a1a6-13d361818646",
   "metadata": {
    "ExecuteTime": {
     "end_time": "2025-08-31T18:14:04.352059Z",
     "start_time": "2025-08-31T18:14:04.201974Z"
    }
   },
   "source": [
    "import numpy as np\n",
    "\n",
    "# Create list L1 using the provided code\n",
    "L1 = []\n",
    "np.random.seed(56)\n",
    "for i in np.random.randint(0, 100, 10):\n",
    "    L1.extend([i] * np.random.randint(0, 100, 1)[0])\n",
    "np.random.shuffle(L1)\n",
    "\n",
    "# Q1: What are the unique values?\n",
    "# Method 1a: Unique Values as numpy data types (np.int32)\n",
    "unique_values = list(set(L1))\n",
    "unique_values.sort()  # Sorting for readability\n",
    "print(\"1. Method A- Unique values in L1 as numpy data types (np.int32) rather than Python integers:\")\n",
    "print(unique_values)\n",
    "print()\n",
    "# Method 1b: Unique values converted as regular Python list using .tolist()\n",
    "unique_values_list = np.unique(L1).tolist()\n",
    "print(\"1. Method B- Unique values converted to Python list:\")\n",
    "print(unique_values_list)\n",
    "print()\n",
    "\n",
    "# Q2: How many unique values?\n",
    "num_unique = len(unique_values)  # Using the len function\n",
    "print(\"2. Number of unique values:\", num_unique)\n",
    "print()\n",
    "\n",
    "# Q3: Create a dictionary with unique items as keys and their count as values\n",
    "count_dict = {}\n",
    "for value in L1:\n",
    "    if value in count_dict:\n",
    "        count_dict[value] += 1\n",
    "    else:\n",
    "        count_dict[value] = 1\n",
    "\n",
    "print(\"3. Dictionary with unique items as keys and their counts as values:\")\n",
    "# Sort by key for better readability\n",
    "for key in sorted(count_dict.keys()):\n",
    "    print(f\"   {key}: {count_dict[key]}\")\n",
    "print()\n",
    "\n",
    "# Q4: Which value appears most frequently?\n",
    "max_count = max(count_dict.values())\n",
    "most_frequent_values = [key for key, value in count_dict.items() if value == max_count]\n",
    "\n",
    "print(\"4. Most frequently appearing value(s):\")\n",
    "if len(most_frequent_values) == 1:\n",
    "    print(f\"   Value {most_frequent_values[0]} appears {max_count} times\")\n",
    "else:\n",
    "    print(f\"   Values {most_frequent_values} all appear {max_count} times (tie)\")\n"
   ],
   "outputs": [
    {
     "name": "stdout",
     "output_type": "stream",
     "text": [
      "1. Method A- Unique values in L1 as numpy data types (np.int32) rather than Python integers:\n",
      "[np.int32(14), np.int32(15), np.int32(22), np.int32(34), np.int32(55), np.int32(57), np.int32(64), np.int32(85), np.int32(87), np.int32(90)]\n",
      "\n",
      "1. Method B- Unique values converted to Python list:\n",
      "[14, 15, 22, 34, 55, 57, 64, 85, 87, 90]\n",
      "\n",
      "2. Number of unique values: 10\n",
      "\n",
      "3. Dictionary with unique items as keys and their counts as values:\n",
      "   14: 11\n",
      "   15: 12\n",
      "   22: 33\n",
      "   34: 43\n",
      "   55: 31\n",
      "   57: 89\n",
      "   64: 66\n",
      "   85: 24\n",
      "   87: 80\n",
      "   90: 10\n",
      "\n",
      "4. Most frequently appearing value(s):\n",
      "   Value 57 appears 89 times\n"
     ]
    }
   ],
   "execution_count": 1
  },
  {
   "cell_type": "code",
   "execution_count": null,
   "id": "3de5e03f-74dc-4f96-aebb-054d50c3f012",
   "metadata": {},
   "outputs": [],
   "source": []
  }
 ],
 "metadata": {
  "kernelspec": {
   "display_name": "Python 3 (ipykernel)",
   "language": "python",
   "name": "python3"
  },
  "language_info": {
   "codemirror_mode": {
    "name": "ipython",
    "version": 3
   },
   "file_extension": ".py",
   "mimetype": "text/x-python",
   "name": "python",
   "nbconvert_exporter": "python",
   "pygments_lexer": "ipython3",
   "version": "3.13.5"
  }
 },
 "nbformat": 4,
 "nbformat_minor": 5
}
